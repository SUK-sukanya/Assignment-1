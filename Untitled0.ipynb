{
  "nbformat": 4,
  "nbformat_minor": 0,
  "metadata": {
    "colab": {
      "name": "Untitled0.ipynb",
      "provenance": [],
      "authorship_tag": "ABX9TyNgyCR1Y+qpBmhjCPH69B0o",
      "include_colab_link": true
    },
    "kernelspec": {
      "name": "python3",
      "display_name": "Python 3"
    }
  },
  "cells": [
    {
      "cell_type": "markdown",
      "metadata": {
        "id": "view-in-github",
        "colab_type": "text"
      },
      "source": [
        "<a href=\"https://colab.research.google.com/github/SUK-sukanya/Assignment-1/blob/main/Untitled0.ipynb\" target=\"_parent\"><img src=\"https://colab.research.google.com/assets/colab-badge.svg\" alt=\"Open In Colab\"/></a>"
      ]
    },
    {
      "cell_type": "markdown",
      "metadata": {
        "id": "hlat2HnXxENU"
      },
      "source": [
        "Q1.Write a python code for finding mean,median and mode."
      ]
    },
    {
      "cell_type": "markdown",
      "metadata": {
        "id": "FwW0gn43ikfF"
      },
      "source": [
        "In [1]:"
      ]
    },
    {
      "cell_type": "code",
      "metadata": {
        "id": "0QISMNEVhv8-"
      },
      "source": [
        "import numpy"
      ],
      "execution_count": 4,
      "outputs": []
    },
    {
      "cell_type": "markdown",
      "metadata": {
        "id": "cscB0Sj_iAHv"
      },
      "source": [
        "In[2]:\r\n"
      ]
    },
    {
      "cell_type": "code",
      "metadata": {
        "id": "2zSjj__NiKj1"
      },
      "source": [
        "from scipy import stats\r\n"
      ],
      "execution_count": 2,
      "outputs": []
    },
    {
      "cell_type": "markdown",
      "metadata": {
        "id": "gXL2vdMyiTI0"
      },
      "source": [
        "In [3]:"
      ]
    },
    {
      "cell_type": "code",
      "metadata": {
        "id": "0hSr7GFAiaSG"
      },
      "source": [
        "age = [19,46,67,38,11,46,13,57,44,78,37,55,36\r\n",
        "       ]"
      ],
      "execution_count": 3,
      "outputs": []
    },
    {
      "cell_type": "markdown",
      "metadata": {
        "id": "Eczys4Xtjj2u"
      },
      "source": [
        "In [4]:"
      ]
    },
    {
      "cell_type": "code",
      "metadata": {
        "id": "bglH68RdqmNw"
      },
      "source": [
        "x=numpy.mean(age)\r\n"
      ],
      "execution_count": null,
      "outputs": []
    },
    {
      "cell_type": "markdown",
      "metadata": {
        "id": "Uh3GNXi8q0g3"
      },
      "source": [
        "In [5]:\r\n",
        "\r\n"
      ]
    },
    {
      "cell_type": "code",
      "metadata": {
        "id": "Nf4IWAGNsud1"
      },
      "source": [
        "y = numpy.median(age)\r\n"
      ],
      "execution_count": null,
      "outputs": []
    },
    {
      "cell_type": "markdown",
      "metadata": {
        "id": "InrparysthaH"
      },
      "source": [
        "In [6]:"
      ]
    },
    {
      "cell_type": "code",
      "metadata": {
        "id": "ncByOlyzrLNT"
      },
      "source": [
        "z = stats.mode(age)"
      ],
      "execution_count": null,
      "outputs": []
    },
    {
      "cell_type": "markdown",
      "metadata": {
        "id": "Bye6450Stwfc"
      },
      "source": [
        "In [7]:\r\n"
      ]
    },
    {
      "cell_type": "code",
      "metadata": {
        "id": "GMpMjz6Dt1J8"
      },
      "source": [
        "print('Mean= ',X)\r\n"
      ],
      "execution_count": null,
      "outputs": []
    },
    {
      "cell_type": "markdown",
      "metadata": {
        "id": "k_6_1xBXwvKQ"
      },
      "source": [
        "mean = 42.07692307692308"
      ]
    },
    {
      "cell_type": "markdown",
      "metadata": {
        "id": "yGfSqwE7uPDC"
      },
      "source": [
        "In [8]:\r\n"
      ]
    },
    {
      "cell_type": "code",
      "metadata": {
        "id": "KLbYetpluV07"
      },
      "source": [
        "print('Median = ',y)\r\n"
      ],
      "execution_count": null,
      "outputs": []
    },
    {
      "cell_type": "markdown",
      "metadata": {
        "id": "dF-AZ6-Iu0ln"
      },
      "source": [
        "Median=44.0\r\n"
      ]
    },
    {
      "cell_type": "markdown",
      "metadata": {
        "id": "k7zSuj6svEhk"
      },
      "source": [
        "In [9]:"
      ]
    },
    {
      "cell_type": "code",
      "metadata": {
        "id": "QCMFzYY9v_er"
      },
      "source": [
        "print('Mode = ',Z)"
      ],
      "execution_count": null,
      "outputs": []
    },
    {
      "cell_type": "markdown",
      "metadata": {
        "id": "fCI29e73wNuI"
      },
      "source": [
        "Mode = ModeResult(mode=array([46]),count = array([2])"
      ]
    }
  ]
}